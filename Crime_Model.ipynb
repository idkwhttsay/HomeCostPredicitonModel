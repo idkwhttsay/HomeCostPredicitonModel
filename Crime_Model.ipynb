{
 "cells": [
  {
   "metadata": {},
   "cell_type": "markdown",
   "source": [
    "\n",
    "# Stop-and-Search Prediction Model"
   ],
   "id": "49f9a3ea0776096a"
  },
  {
   "metadata": {
    "ExecuteTime": {
     "end_time": "2024-09-13T19:37:37.802640Z",
     "start_time": "2024-09-13T19:37:37.799985Z"
    }
   },
   "cell_type": "code",
   "source": [
    "# imports \n",
    "import pandas as pd\n",
    "import matplotlib.pyplot as plt\n",
    "%matplotlib inline\n",
    "import seaborn as sns\n",
    "import numpy as np"
   ],
   "id": "e407cdcec72690dc",
   "outputs": [],
   "execution_count": 3
  },
  {
   "metadata": {
    "ExecuteTime": {
     "end_time": "2024-09-13T20:12:15.102346Z",
     "start_time": "2024-09-13T20:12:14.976961Z"
    }
   },
   "cell_type": "code",
   "source": [
    "crime_df = pd.read_csv('crime_data.csv')\n",
    "\n",
    "crime_df.info()"
   ],
   "id": "4906b666ddd13f99",
   "outputs": [
    {
     "name": "stdout",
     "output_type": "stream",
     "text": [
      "<class 'pandas.core.frame.DataFrame'>\n",
      "RangeIndex: 37188 entries, 0 to 37187\n",
      "Data columns (total 15 columns):\n",
      " #   Column                                    Non-Null Count  Dtype  \n",
      "---  ------                                    --------------  -----  \n",
      " 0   Type                                      37188 non-null  object \n",
      " 1   Date                                      37188 non-null  object \n",
      " 2   Part of a policing operation              37188 non-null  bool   \n",
      " 3   Policing operation                        0 non-null      float64\n",
      " 4   Latitude                                  35391 non-null  float64\n",
      " 5   Longitude                                 35391 non-null  float64\n",
      " 6   Gender                                    34640 non-null  object \n",
      " 7   Age range                                 34945 non-null  object \n",
      " 8   Self-defined ethnicity                    36858 non-null  object \n",
      " 9   Officer-defined ethnicity                 35755 non-null  object \n",
      " 10  Legislation                               36101 non-null  object \n",
      " 11  Object of search                          36352 non-null  object \n",
      " 12  Outcome                                   36910 non-null  object \n",
      " 13  Outcome linked to object of search        36914 non-null  object \n",
      " 14  Removal of more than just outer clothing  37102 non-null  object \n",
      "dtypes: bool(1), float64(3), object(11)\n",
      "memory usage: 4.0+ MB\n"
     ]
    }
   ],
   "execution_count": 9
  }
 ],
 "metadata": {
  "kernelspec": {
   "display_name": "Python 3",
   "language": "python",
   "name": "python3"
  },
  "language_info": {
   "codemirror_mode": {
    "name": "ipython",
    "version": 2
   },
   "file_extension": ".py",
   "mimetype": "text/x-python",
   "name": "python",
   "nbconvert_exporter": "python",
   "pygments_lexer": "ipython2",
   "version": "2.7.6"
  }
 },
 "nbformat": 4,
 "nbformat_minor": 5
}
