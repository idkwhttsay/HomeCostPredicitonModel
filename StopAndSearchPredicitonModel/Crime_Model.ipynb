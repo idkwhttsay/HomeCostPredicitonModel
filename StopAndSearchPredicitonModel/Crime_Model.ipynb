{
 "cells": [
  {
   "cell_type": "code",
   "id": "initial_id",
   "metadata": {
    "collapsed": true,
    "ExecuteTime": {
     "end_time": "2024-09-10T01:26:16.832086Z",
     "start_time": "2024-09-10T01:26:10.954982Z"
    }
   },
   "source": "",
   "outputs": [
    {
     "name": "stdout",
     "output_type": "stream",
     "text": [
      "sagemaker.config INFO - Not applying SDK defaults from location: /Library/Application Support/sagemaker/config.yaml\n",
      "sagemaker.config INFO - Not applying SDK defaults from location: /Users/tata4onok/Library/Application Support/sagemaker/config.yaml\n"
     ]
    },
    {
     "ename": "ValueError",
     "evalue": "Must setup local AWS configuration with a region supported by SageMaker.",
     "output_type": "error",
     "traceback": [
      "\u001B[0;31m---------------------------------------------------------------------------\u001B[0m",
      "\u001B[0;31mValueError\u001B[0m                                Traceback (most recent call last)",
      "Cell \u001B[0;32mIn[1], line 2\u001B[0m\n\u001B[1;32m      1\u001B[0m \u001B[38;5;28;01mimport\u001B[39;00m \u001B[38;5;21;01msagemaker\u001B[39;00m\n\u001B[0;32m----> 2\u001B[0m bucket\u001B[38;5;241m=\u001B[39m\u001B[43msagemaker\u001B[49m\u001B[38;5;241;43m.\u001B[39;49m\u001B[43mSession\u001B[49m\u001B[43m(\u001B[49m\u001B[43m)\u001B[49m\u001B[38;5;241m.\u001B[39mdefault_bucket()\n\u001B[1;32m      3\u001B[0m prefix \u001B[38;5;241m=\u001B[39m \u001B[38;5;124m'\u001B[39m\u001B[38;5;124msagemaker/DEMO-linlearn-dm\u001B[39m\u001B[38;5;124m'\u001B[39m\n\u001B[1;32m      5\u001B[0m \u001B[38;5;66;03m# Define IAM role\u001B[39;00m\n",
      "File \u001B[0;32m/Library/Frameworks/Python.framework/Versions/3.12/lib/python3.12/site-packages/sagemaker/session.py:265\u001B[0m, in \u001B[0;36mSession.__init__\u001B[0;34m(self, boto_session, sagemaker_client, sagemaker_runtime_client, sagemaker_featurestore_runtime_client, default_bucket, settings, sagemaker_metrics_client, sagemaker_config, default_bucket_prefix)\u001B[0m\n\u001B[1;32m    262\u001B[0m \u001B[38;5;28mself\u001B[39m\u001B[38;5;241m.\u001B[39mlambda_client \u001B[38;5;241m=\u001B[39m \u001B[38;5;28;01mNone\u001B[39;00m\n\u001B[1;32m    263\u001B[0m \u001B[38;5;28mself\u001B[39m\u001B[38;5;241m.\u001B[39msettings \u001B[38;5;241m=\u001B[39m settings \u001B[38;5;28;01mif\u001B[39;00m settings \u001B[38;5;28;01melse\u001B[39;00m SessionSettings()\n\u001B[0;32m--> 265\u001B[0m \u001B[38;5;28;43mself\u001B[39;49m\u001B[38;5;241;43m.\u001B[39;49m\u001B[43m_initialize\u001B[49m\u001B[43m(\u001B[49m\n\u001B[1;32m    266\u001B[0m \u001B[43m    \u001B[49m\u001B[43mboto_session\u001B[49m\u001B[38;5;241;43m=\u001B[39;49m\u001B[43mboto_session\u001B[49m\u001B[43m,\u001B[49m\n\u001B[1;32m    267\u001B[0m \u001B[43m    \u001B[49m\u001B[43msagemaker_client\u001B[49m\u001B[38;5;241;43m=\u001B[39;49m\u001B[43msagemaker_client\u001B[49m\u001B[43m,\u001B[49m\n\u001B[1;32m    268\u001B[0m \u001B[43m    \u001B[49m\u001B[43msagemaker_runtime_client\u001B[49m\u001B[38;5;241;43m=\u001B[39;49m\u001B[43msagemaker_runtime_client\u001B[49m\u001B[43m,\u001B[49m\n\u001B[1;32m    269\u001B[0m \u001B[43m    \u001B[49m\u001B[43msagemaker_featurestore_runtime_client\u001B[49m\u001B[38;5;241;43m=\u001B[39;49m\u001B[43msagemaker_featurestore_runtime_client\u001B[49m\u001B[43m,\u001B[49m\n\u001B[1;32m    270\u001B[0m \u001B[43m    \u001B[49m\u001B[43msagemaker_metrics_client\u001B[49m\u001B[38;5;241;43m=\u001B[39;49m\u001B[43msagemaker_metrics_client\u001B[49m\u001B[43m,\u001B[49m\n\u001B[1;32m    271\u001B[0m \u001B[43m    \u001B[49m\u001B[43msagemaker_config\u001B[49m\u001B[38;5;241;43m=\u001B[39;49m\u001B[43msagemaker_config\u001B[49m\u001B[43m,\u001B[49m\n\u001B[1;32m    272\u001B[0m \u001B[43m\u001B[49m\u001B[43m)\u001B[49m\n",
      "File \u001B[0;32m/Library/Frameworks/Python.framework/Versions/3.12/lib/python3.12/site-packages/sagemaker/session.py:293\u001B[0m, in \u001B[0;36mSession._initialize\u001B[0;34m(self, boto_session, sagemaker_client, sagemaker_runtime_client, sagemaker_featurestore_runtime_client, sagemaker_metrics_client, sagemaker_config)\u001B[0m\n\u001B[1;32m    291\u001B[0m \u001B[38;5;28mself\u001B[39m\u001B[38;5;241m.\u001B[39m_region_name \u001B[38;5;241m=\u001B[39m \u001B[38;5;28mself\u001B[39m\u001B[38;5;241m.\u001B[39mboto_session\u001B[38;5;241m.\u001B[39mregion_name\n\u001B[1;32m    292\u001B[0m \u001B[38;5;28;01mif\u001B[39;00m \u001B[38;5;28mself\u001B[39m\u001B[38;5;241m.\u001B[39m_region_name \u001B[38;5;129;01mis\u001B[39;00m \u001B[38;5;28;01mNone\u001B[39;00m:\n\u001B[0;32m--> 293\u001B[0m     \u001B[38;5;28;01mraise\u001B[39;00m \u001B[38;5;167;01mValueError\u001B[39;00m(\n\u001B[1;32m    294\u001B[0m         \u001B[38;5;124m\"\u001B[39m\u001B[38;5;124mMust setup local AWS configuration with a region supported by SageMaker.\u001B[39m\u001B[38;5;124m\"\u001B[39m\n\u001B[1;32m    295\u001B[0m     )\n\u001B[1;32m    297\u001B[0m \u001B[38;5;66;03m# Make use of user_agent_extra field of the botocore_config object\u001B[39;00m\n\u001B[1;32m    298\u001B[0m \u001B[38;5;66;03m# to append SageMaker Python SDK specific user_agent suffix\u001B[39;00m\n\u001B[1;32m    299\u001B[0m \u001B[38;5;66;03m# to the current User-Agent header value from boto3\u001B[39;00m\n\u001B[1;32m    300\u001B[0m \u001B[38;5;66;03m# This config will also make sure that user_agent never fails to log the User-Agent string\u001B[39;00m\n\u001B[1;32m    301\u001B[0m \u001B[38;5;66;03m# even if boto User-Agent header format is updated in the future\u001B[39;00m\n\u001B[1;32m    302\u001B[0m \u001B[38;5;66;03m# Ref: https://botocore.amazonaws.com/v1/documentation/api/latest/reference/config.html\u001B[39;00m\n\u001B[1;32m    303\u001B[0m botocore_config \u001B[38;5;241m=\u001B[39m botocore\u001B[38;5;241m.\u001B[39mconfig\u001B[38;5;241m.\u001B[39mConfig(user_agent_extra\u001B[38;5;241m=\u001B[39mget_user_agent_extra_suffix())\n",
      "\u001B[0;31mValueError\u001B[0m: Must setup local AWS configuration with a region supported by SageMaker."
     ]
    }
   ],
   "execution_count": 1
  },
  {
   "metadata": {
    "ExecuteTime": {
     "end_time": "2024-09-09T03:17:38.615236Z",
     "start_time": "2024-09-09T03:17:38.609834Z"
    }
   },
   "cell_type": "code",
   "source": "",
   "id": "37810fa62dfa89e1",
   "outputs": [],
   "execution_count": 2
  }
 ],
 "metadata": {
  "kernelspec": {
   "display_name": "Python 3",
   "language": "python",
   "name": "python3"
  },
  "language_info": {
   "codemirror_mode": {
    "name": "ipython",
    "version": 2
   },
   "file_extension": ".py",
   "mimetype": "text/x-python",
   "name": "python",
   "nbconvert_exporter": "python",
   "pygments_lexer": "ipython2",
   "version": "2.7.6"
  }
 },
 "nbformat": 4,
 "nbformat_minor": 5
}
